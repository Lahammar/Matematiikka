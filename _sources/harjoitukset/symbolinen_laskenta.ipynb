{
 "cells": [
  {
   "cell_type": "markdown",
   "id": "built-volleyball",
   "metadata": {},
   "source": [
    "# Symbolinen laskenta Pythonilla"
   ]
  },
  {
   "cell_type": "markdown",
   "id": "living-mouth",
   "metadata": {},
   "source": [
    "Symbolinen laskenta Pythonilla onnistuu [SymPy](https://docs.sympy.org/)-paketin avulla. Tässä notebookissa on muutama esimerkki SymPyn käytöstä. Lisää esimerkkejä löydät SymPyn [tutoriaalisivulta](https://docs.sympy.org/latest/tutorial/index.html)."
   ]
  },
  {
   "cell_type": "markdown",
   "id": "operational-arizona",
   "metadata": {},
   "source": [
    "## Funktioiden määrittäminen"
   ]
  },
  {
   "cell_type": "code",
   "execution_count": 1,
   "id": "pursuant-extraction",
   "metadata": {},
   "outputs": [],
   "source": [
    "from sympy import *\n",
    "\n",
    "# Käytettävien muuttujien symbolit pitää määrittää aluksi\n",
    "x = Symbol('x')\n",
    "\n",
    "# Tehdään toisen asteen polynomifunktio\n",
    "def f(x):\n",
    "    return x**2 + x + 1\n",
    "\n",
    "def g(x):\n",
    "    return sin(x)**2 + cos(x)**2 - 1\n",
    "\n",
    "def h(x):\n",
    "    return 5*exp(x) + 1"
   ]
  },
  {
   "cell_type": "code",
   "execution_count": 2,
   "id": "korean-burlington",
   "metadata": {},
   "outputs": [
    {
     "data": {
      "text/latex": [
       "$\\displaystyle x^{2} + x + 1$"
      ],
      "text/plain": [
       "x**2 + x + 1"
      ]
     },
     "execution_count": 2,
     "metadata": {},
     "output_type": "execute_result"
    }
   ],
   "source": [
    "# Tulostetaan funktiot näytölle\n",
    "f(x)"
   ]
  },
  {
   "cell_type": "code",
   "execution_count": 3,
   "id": "instructional-reporter",
   "metadata": {},
   "outputs": [
    {
     "data": {
      "text/latex": [
       "$\\displaystyle \\sin^{2}{\\left(x \\right)} + \\cos^{2}{\\left(x \\right)} - 1$"
      ],
      "text/plain": [
       "sin(x)**2 + cos(x)**2 - 1"
      ]
     },
     "execution_count": 3,
     "metadata": {},
     "output_type": "execute_result"
    }
   ],
   "source": [
    "g(x)"
   ]
  },
  {
   "cell_type": "code",
   "execution_count": 4,
   "id": "third-suspension",
   "metadata": {},
   "outputs": [
    {
     "data": {
      "text/latex": [
       "$\\displaystyle 5 e^{x} + 1$"
      ],
      "text/plain": [
       "5*exp(x) + 1"
      ]
     },
     "execution_count": 4,
     "metadata": {},
     "output_type": "execute_result"
    }
   ],
   "source": [
    "h(x)"
   ]
  },
  {
   "cell_type": "code",
   "execution_count": 5,
   "id": "welsh-hazard",
   "metadata": {},
   "outputs": [
    {
     "data": {
      "text/latex": [
       "$\\displaystyle 3$"
      ],
      "text/plain": [
       "3"
      ]
     },
     "execution_count": 5,
     "metadata": {},
     "output_type": "execute_result"
    }
   ],
   "source": [
    "# Sijoitetaan funktioon f x:n paikalle luku 1\n",
    "\n",
    "f(x).subs(x, 1)"
   ]
  },
  {
   "cell_type": "code",
   "execution_count": 6,
   "id": "offensive-essex",
   "metadata": {},
   "outputs": [
    {
     "data": {
      "text/latex": [
       "$\\displaystyle 1 + 5 e$"
      ],
      "text/plain": [
       "1 + 5*E"
      ]
     },
     "execution_count": 6,
     "metadata": {},
     "output_type": "execute_result"
    }
   ],
   "source": [
    "# Lasketaan g(0) + h(1)\n",
    "\n",
    "g0 = g(x).subs(x, 0)\n",
    "h1 = h(x).subs(x, 1)\n",
    "\n",
    "g0 + h1"
   ]
  },
  {
   "cell_type": "markdown",
   "id": "framed-olympus",
   "metadata": {},
   "source": [
    "## Derivaatta ja integraali"
   ]
  },
  {
   "cell_type": "code",
   "execution_count": 7,
   "id": "blessed-reservoir",
   "metadata": {},
   "outputs": [
    {
     "data": {
      "text/latex": [
       "$\\displaystyle 2 x + 1$"
      ],
      "text/plain": [
       "2*x + 1"
      ]
     },
     "execution_count": 7,
     "metadata": {},
     "output_type": "execute_result"
    }
   ],
   "source": [
    "# Funktion f derivaattafunktio. Käytetään samoja funktioita kuin aiemmin.\n",
    "\n",
    "df = diff(f(x))\n",
    "df"
   ]
  },
  {
   "cell_type": "code",
   "execution_count": 8,
   "id": "jewish-scroll",
   "metadata": {},
   "outputs": [
    {
     "data": {
      "text/latex": [
       "$\\displaystyle 5 e^{5}$"
      ],
      "text/plain": [
       "5*exp(5)"
      ]
     },
     "execution_count": 8,
     "metadata": {},
     "output_type": "execute_result"
    }
   ],
   "source": [
    "# Lasketaan h'(5)\n",
    "\n",
    "dh = diff(h(x))\n",
    "dh0 = dh.subs(x, 5)\n",
    "dh0"
   ]
  },
  {
   "cell_type": "code",
   "execution_count": 9,
   "id": "alike-citizenship",
   "metadata": {},
   "outputs": [
    {
     "data": {
      "text/latex": [
       "$\\displaystyle \\frac{x^{3}}{3} + \\frac{x^{2}}{2} + x$"
      ],
      "text/plain": [
       "x**3/3 + x**2/2 + x"
      ]
     },
     "execution_count": 9,
     "metadata": {},
     "output_type": "execute_result"
    }
   ],
   "source": [
    "# Funktion f integraali\n",
    "\n",
    "F = integrate(f(x),x)\n",
    "F"
   ]
  },
  {
   "cell_type": "code",
   "execution_count": 10,
   "id": "muslim-ticket",
   "metadata": {},
   "outputs": [
    {
     "data": {
      "text/latex": [
       "$\\displaystyle \\frac{355}{6}$"
      ],
      "text/plain": [
       "355/6"
      ]
     },
     "execution_count": 10,
     "metadata": {},
     "output_type": "execute_result"
    }
   ],
   "source": [
    "# Funktion f määrätty integraali välillä [0, 5]\n",
    "\n",
    "result = integrate(f(x),(x,0,5))\n",
    "result"
   ]
  }
 ],
 "metadata": {
  "kernelspec": {
   "display_name": "Python 3",
   "language": "python",
   "name": "python3"
  },
  "language_info": {
   "codemirror_mode": {
    "name": "ipython",
    "version": 3
   },
   "file_extension": ".py",
   "mimetype": "text/x-python",
   "name": "python",
   "nbconvert_exporter": "python",
   "pygments_lexer": "ipython3",
   "version": "3.8.5"
  }
 },
 "nbformat": 4,
 "nbformat_minor": 5
}
