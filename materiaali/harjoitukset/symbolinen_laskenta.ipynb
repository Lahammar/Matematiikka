{
 "cells": [
  {
   "cell_type": "markdown",
   "id": "built-volleyball",
   "metadata": {},
   "source": [
    "# Symbolinen laskenta Pythonilla"
   ]
  },
  {
   "cell_type": "markdown",
   "id": "living-mouth",
   "metadata": {},
   "source": [
    "Symbolinen laskenta Pythonilla onnistuu [SymPy](https://docs.sympy.org/)-paketin avulla. Tässä notebookissa on muutama esimerkki SymPyn käytöstä. Lisää esimerkkejä löydät SymPyn [tutoriaalisivulta](https://docs.sympy.org/latest/tutorial/index.html)."
   ]
  },
  {
   "cell_type": "markdown",
   "id": "operational-arizona",
   "metadata": {},
   "source": [
    "## Funktioiden määrittäminen"
   ]
  },
  {
   "cell_type": "code",
   "execution_count": null,
   "id": "pursuant-extraction",
   "metadata": {},
   "outputs": [],
   "source": [
    "from sympy import *\n",
    "\n",
    "# Käytettävien muuttujien symbolit pitää määrittää aluksi\n",
    "x = Symbol('x')\n",
    "\n",
    "# Tehdään toisen asteen polynomifunktio\n",
    "def f(x):\n",
    "    return x**2 + x + 1\n",
    "\n",
    "def g(x):\n",
    "    return sin(x)**2 + cos(x)**2 - 1\n",
    "\n",
    "def h(x):\n",
    "    return 5*exp(x) + 1"
   ]
  },
  {
   "cell_type": "code",
   "execution_count": null,
   "id": "korean-burlington",
   "metadata": {},
   "outputs": [],
   "source": [
    "# Tulostetaan funktiot näytölle\n",
    "f(x)"
   ]
  },
  {
   "cell_type": "code",
   "execution_count": null,
   "id": "instructional-reporter",
   "metadata": {},
   "outputs": [],
   "source": [
    "g(x)"
   ]
  },
  {
   "cell_type": "code",
   "execution_count": null,
   "id": "third-suspension",
   "metadata": {},
   "outputs": [],
   "source": [
    "h(x)"
   ]
  },
  {
   "cell_type": "code",
   "execution_count": null,
   "id": "welsh-hazard",
   "metadata": {},
   "outputs": [],
   "source": [
    "# Sijoitetaan funktioon f x:n paikalle luku 1\n",
    "\n",
    "f(x).subs(x, 1)"
   ]
  },
  {
   "cell_type": "code",
   "execution_count": null,
   "id": "offensive-essex",
   "metadata": {},
   "outputs": [],
   "source": [
    "# Lasketaan g(0) + h(1)\n",
    "\n",
    "g0 = g(x).subs(x, 0)\n",
    "h1 = h(x).subs(x, 1)\n",
    "\n",
    "g0 + h1"
   ]
  },
  {
   "cell_type": "markdown",
   "id": "framed-olympus",
   "metadata": {},
   "source": [
    "## Derivaatta ja integraali"
   ]
  },
  {
   "cell_type": "code",
   "execution_count": null,
   "id": "blessed-reservoir",
   "metadata": {},
   "outputs": [],
   "source": [
    "# Funktion f derivaattafunktio. Käytetään samoja funktioita kuin aiemmin.\n",
    "\n",
    "df = diff(f(x))\n",
    "df"
   ]
  },
  {
   "cell_type": "code",
   "execution_count": null,
   "id": "jewish-scroll",
   "metadata": {},
   "outputs": [],
   "source": [
    "# Lasketaan h'(5)\n",
    "\n",
    "dh = diff(h(x))\n",
    "dh0 = dh.subs(x, 5)\n",
    "dh0"
   ]
  },
  {
   "cell_type": "code",
   "execution_count": null,
   "id": "alike-citizenship",
   "metadata": {},
   "outputs": [],
   "source": [
    "# Funktion f integraali\n",
    "\n",
    "F = integrate(f(x),x)\n",
    "F"
   ]
  },
  {
   "cell_type": "code",
   "execution_count": null,
   "id": "muslim-ticket",
   "metadata": {},
   "outputs": [],
   "source": [
    "# Funktion f määrätty integraali välillä [0, 5]\n",
    "\n",
    "result = integrate(f(x),(x,0,5))\n",
    "result"
   ]
  }
 ],
 "metadata": {
  "kernelspec": {
   "display_name": "Python 3",
   "language": "python",
   "name": "python3"
  },
  "language_info": {
   "codemirror_mode": {
    "name": "ipython",
    "version": 3
   },
   "file_extension": ".py",
   "mimetype": "text/x-python",
   "name": "python",
   "nbconvert_exporter": "python",
   "pygments_lexer": "ipython3",
   "version": "3.8.5"
  }
 },
 "nbformat": 4,
 "nbformat_minor": 5
}
